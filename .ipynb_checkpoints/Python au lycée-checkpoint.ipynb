{
 "cells": [
  {
   "cell_type": "markdown",
   "metadata": {},
   "source": [
    "# Les bases de Python au lycée dans l'enseignement des Mathématiques"
   ]
  },
  {
   "cell_type": "markdown",
   "metadata": {},
   "source": [
    "L'objectif de ce notebook Jupyter est de vous aider à reprendre pied en Python en revoyant ce qui doit être vu au lycée en mathématiques. \n",
    "\n",
    "L'objectif est tout à fait abordable, pas de panique. \n",
    "\n",
    "Il ne va pas être très long de rattraper un éventuel retard. \n",
    "\n",
    "Suivez les différents exercices pas à pas. Vous avez des exemples qui précèdent chaque exercice \"À vous de jouer !\".\n",
    "\n",
    "Vous avez également la correction en cliquant sur le lien..."
   ]
  },
  {
   "cell_type": "markdown",
   "metadata": {},
   "source": [
    "# 1. Stocker des informations"
   ]
  },
  {
   "cell_type": "markdown",
   "metadata": {},
   "source": [
    "## 1.1. Utilisation de variables simples"
   ]
  },
  {
   "cell_type": "markdown",
   "metadata": {},
   "source": [
    "Dans le cadre de l'enseignement de Mathématiques au lycée et pour démarrer cette activité, une information sera du type nombre (entier ou nombre décimal) ou une chaîne de caractères (un mot ou une phrase).\n",
    "\n",
    "Nous allons tout d'abord voir comment demander une information à l'utilisateur.\n",
    "\n",
    "Pour demander une information à l'utilisateur, c'est-à-dire lui poser une question et enregistrer sa réponse, nous allons utiliser l'instruction `input(\"Question à poser\")`.\n",
    "\n",
    "Et nous allons enregistrer sa réponse dans une **variable**. \n",
    "\n",
    "Le nom des variables peut être une simple lettre ou un mot, contenir des lettres minuscules, majuscules ou le symbole _.\n",
    "\n",
    "Pour enregistrer la réponse de l'utilisateur nous allons juste utiliser le symbole =.\n",
    "\n",
    "Lisez bien les explications précédées du symbole #. Ce sont des commentaires ajoutés au code qui peuvent permettre d'aider celui qui lit le code. Je vais donc m'en servir pour vous apporter des détails."
   ]
  },
  {
   "cell_type": "code",
   "execution_count": null,
   "metadata": {},
   "outputs": [],
   "source": [
    "# Exemple\n",
    "# La question posée est écrite entre les guillemets.\n",
    "# L'instruction \\n à l'intérieur des guillemets permet de sauter une ligne après la question\n",
    "# La réponse sera enregistrée (stockée) dans la variable reponse\n",
    "# Pour exécuter ce code, cliquez sur \"Exécuter\" (ou \"Run\" en Anglais) en dessous de la barre de menu\n",
    "# Il est normal que rien ne s'affiche une fois la réponse donnée.\n",
    "# Validez votre réponse en tapant sur  la touche \"Entrée\" de votre clavier.\n",
    "# Exécutez le code suivant\n",
    "\n",
    "reponse = input(\"Quel est votre prénom ?\\n\")"
   ]
  },
  {
   "cell_type": "markdown",
   "metadata": {},
   "source": [
    "Affichons maintenant la valeur enregistrée (stockée) dans une variable.\n",
    "\n",
    "Il suffit d'utiliser l'instruction `print(nom de la variable)`."
   ]
  },
  {
   "cell_type": "code",
   "execution_count": null,
   "metadata": {},
   "outputs": [],
   "source": [
    "# Exemple\n",
    "# Exécutez le code suivant\n",
    "# Vous devriez voir s'afficher la réponse que vous avez donnée à la question de l'exemple précédent\n",
    "print(reponse)"
   ]
  },
  {
   "cell_type": "markdown",
   "metadata": {},
   "source": [
    "Passons au cas où nous demandons un nombre.\n",
    "\n",
    "Python récupère toujours la réponse à une question posée avec l'instruction `input(\"Question\")` sous la forme d'un chaîne de caractères (mot).\n",
    "\n",
    "Pour lui indiquer que la réponse est à \"transformer\" en un nombre, c'est-à-dire à prendre en compte sous la forme d'un nombre, nous allons ajouter `int` (pour les entiers) ou `float` (pour les nombres décimaux)."
   ]
  },
  {
   "cell_type": "code",
   "execution_count": null,
   "metadata": {},
   "outputs": [],
   "source": [
    "# Exemple\n",
    "# Exécutez le code suivant\n",
    "\n",
    "age = input(\"Quel est votre âge ?\\n\")\n",
    "age = int(age) # récupère la réponse précédente et la transforme, si c'est possible, en un entier\n",
    "print(age)"
   ]
  },
  {
   "cell_type": "markdown",
   "metadata": {},
   "source": [
    "On peut raccourcir le code précédent en :"
   ]
  },
  {
   "cell_type": "code",
   "execution_count": null,
   "metadata": {},
   "outputs": [],
   "source": [
    "# Exemple\n",
    "# Exécutez le code suivant\n",
    "\n",
    "age = int(input(\"Quel est votre âge ?\\n\"))\n",
    "print(age)"
   ]
  },
  {
   "cell_type": "markdown",
   "metadata": {},
   "source": [
    "Si on attend une réponse sous la forme d'un nombre décimal, le code est très semblable :"
   ]
  },
  {
   "cell_type": "code",
   "execution_count": null,
   "metadata": {},
   "outputs": [],
   "source": [
    "# Exemple\n",
    "# Exécutez le code suivant\n",
    "\n",
    "note = float(input(\"Quelle sera votre prochaine note en Maths ?\\n\"))\n",
    "print(note)"
   ]
  },
  {
   "cell_type": "markdown",
   "metadata": {},
   "source": [
    "On peut évidemment accompagner l'affichage d'une phrase pour que cela soit plus facile à lire pour l'utilisateur."
   ]
  },
  {
   "cell_type": "code",
   "execution_count": null,
   "metadata": {},
   "outputs": [],
   "source": [
    "# Exemple\n",
    "# Exécutez le code suivant\n",
    "\n",
    "note = float(input(\"Quelle sera votre prochaine note en Maths ?\\n\"))\n",
    "print(\"Votre prochaine note sera : \",note,\"/20.\") # Le fait que note ne soit pas entre guillemets permet de demander\n",
    "# la valeur stockée dans la variable \"note\" et non le mot \"note\".\n",
    "# Les virgules servent à séparer les arguments de types différents (chaine de caractères et nombre ici)."
   ]
  },
  {
   "cell_type": "markdown",
   "metadata": {},
   "source": [
    "**À vous de jouer !**\n",
    "\n",
    "Écrire un code demandant les deux dernières notes obtenues en Mathématiques et affichant la moyenne.\n",
    "\n",
    "Dans le code suivant, remplacer l'instruction `pass` par votre code, puis exécuter votre code pour vérifier."
   ]
  },
  {
   "cell_type": "code",
   "execution_count": null,
   "metadata": {},
   "outputs": [],
   "source": [
    "pass"
   ]
  },
  {
   "cell_type": "markdown",
   "metadata": {},
   "source": [
    "## 1.2 Utiliser les listes pour stockées des informations"
   ]
  },
  {
   "cell_type": "markdown",
   "metadata": {},
   "source": [
    "Utiliser une liste pour stocker des informations permet de les enregistrer ensemble.\n",
    "\n",
    "Le type `list` de Python est approprié et c'est celui que nous allons utiliser au lycée en Mathématiques.\n",
    "\n",
    "On écrit une liste de valeurs (qui peuvent être de types différents) entre des crochets `[]`, chaque valeur étant séparée des autres par des virgules."
   ]
  },
  {
   "cell_type": "code",
   "execution_count": null,
   "metadata": {},
   "outputs": [],
   "source": [
    "# Exemple\n",
    "# Exécutez le code suivant\n",
    "\n",
    "liste1 = [10, 20, 30, 40, 50, 60, 7, 80, 90, 100]\n",
    "print(\"Voici ma première liste en Python : \", liste1,\".\")"
   ]
  },
  {
   "cell_type": "markdown",
   "metadata": {},
   "source": [
    "Pour obtenir une valeur stockée dans une liste, il suffit de connaître sa position dans la liste.\n",
    "\n",
    "Attention la numérotation des valeurs commence à 0, un peu comme une suite $(u_n)$ dont le premier terme seraît $u_0$.\n",
    "\n",
    "Ainsi pour afficher la première valeur de la liste `liste1`, on écrira :\n",
    "`print(liste1[0])`.\n",
    "\n",
    "Pour afficher la deuxième valeur de la liste `liste1`, on écrira :\n",
    "`print(liste1[1])`.\n",
    "\n",
    "etc."
   ]
  },
  {
   "cell_type": "code",
   "execution_count": null,
   "metadata": {},
   "outputs": [],
   "source": [
    "# Exemple \n",
    "# Exécutez le code suivant\n",
    "\n",
    "liste1 = [10, 20, 30, 40, 50, 60, 7, 80, 90, 100]\n",
    "print(\"Les deux premiers éléments de la liste sont : \", liste1[0],\" et \", liste1[1], \".\")"
   ]
  },
  {
   "cell_type": "markdown",
   "metadata": {},
   "source": [
    "Pour ajouter des valeurs à une liste existante, on peut utiliser l'instruction `append(valeur)` qui permet d'ajouter `valeur` à la fin d'une liste."
   ]
  },
  {
   "cell_type": "code",
   "execution_count": null,
   "metadata": {},
   "outputs": [],
   "source": [
    "# Exemple \n",
    "# Exécutez le code suivant\n",
    "\n",
    "liste2 = [10, 20, 30, 40, 50, 60, 7, 80, 90, 100]\n",
    "liste2.append(200)\n",
    "print(\"Voici ma deuxième liste en Python : \", liste2,\".\")"
   ]
  },
  {
   "cell_type": "markdown",
   "metadata": {},
   "source": [
    "**Remarque**\n",
    "\n",
    "On peut créer une liste vide et ajouter des valeurs au fur et à mesure."
   ]
  },
  {
   "cell_type": "code",
   "execution_count": null,
   "metadata": {},
   "outputs": [],
   "source": [
    "# Exemple \n",
    "# Exécutez le code suivant\n",
    "\n",
    "liste3 = []\n",
    "liste3.append(10)\n",
    "liste3.append(20)\n",
    "liste3.append(30)\n",
    "liste3.append(40)\n",
    "liste3.append(50)\n",
    "liste3.append(60)\n",
    "liste3.append(70)\n",
    "liste3.append(80)\n",
    "liste3.append(90)\n",
    "liste3.append(100)\n",
    "print(\"Voici ma troisième liste en Python : \", liste3,\".\")"
   ]
  },
  {
   "cell_type": "markdown",
   "metadata": {},
   "source": [
    "**À vous de jouer !**\n",
    "\n",
    "Écrire un code créant une liste vide que l'on remplit ensuite avec les entiers de $-5$ à 5.\n",
    "\n",
    "Demander l'affichage de la troisième valeur (cela doit afficher $-3$).\n",
    "\n",
    "Dans le code suivant, remplacer l'instruction `pass` par votre code, puis exécuter votre code pour vérifier."
   ]
  },
  {
   "cell_type": "code",
   "execution_count": null,
   "metadata": {},
   "outputs": [],
   "source": [
    "pass"
   ]
  },
  {
   "cell_type": "markdown",
   "metadata": {},
   "source": [
    "# 2. L'instruction conditionnelle"
   ]
  },
  {
   "cell_type": "markdown",
   "metadata": {},
   "source": [
    "Il est fréquent en programmation d'avoir à exécuter des instructions uniquement si une condition est vérifiée.\n",
    "\n",
    "En Python la syntaxe `if... else...` ou `if ... elif... else...` permet cela.\n",
    "\n",
    "Quelques particularités du langage :\n",
    "\n",
    "1. À la fin de la condition écrite après `if`, on écrit `:`. Cela permet à Python de repérer la fin de la condition et cela génère une indentation (décalage des lignes suivantes) dans le code. En supprimant l'indentation, Python repère la fin des instructions à effectuer si la condition écrite entre `if` et `:` est vérifiée.\n",
    "\n",
    "2. Les instructions à effectuer dans le cas où la condition écrite entre `if` et `:` n'est pas vérifiée sont écrite après `else:`. À nouveau les deux points génèrent une indentation et la suppression de l'indentation permet à Python de repérer la fin des instructions à effectuer dans le cas où la condition écrite entre `if` et `:` n'est pas vérifiée.\n",
    "\n",
    "3. S'il y a plus de deux cas, on peut utiliser l'instruction `if...elif...else...`"
   ]
  },
  {
   "cell_type": "code",
   "execution_count": null,
   "metadata": {},
   "outputs": [],
   "source": [
    "# Exemple \n",
    "# Exécutez le code suivant\n",
    "\n",
    "age = int(input(\"Quel est votre âge ?\\n\"))\n",
    "if age < 18:\n",
    "    print(\"Vous êtes mineur(e).\")\n",
    "else:\n",
    "    print(\"Vous êtes majeur(e).\")"
   ]
  },
  {
   "cell_type": "markdown",
   "metadata": {},
   "source": [
    "Voici différents tests que l'on peut effectuer. On prend comme exemple deux variables `a` et `b`.\n",
    "\n",
    "1. Tester si $a=b$ : `a == b`\n",
    "\n",
    "2. Tester si $a>b$ : `a > b`\n",
    "\n",
    "3. Tester si $a<b$ : `a < b`\n",
    "\n",
    "4. Tester si $a\\geq b$ : `a >= b`\n",
    "\n",
    "5. Tester si $a\\leq b$ : `a <= b`\n",
    "\n",
    "6. Tester si $a\\neq b$ : `a != b`"
   ]
  },
  {
   "cell_type": "markdown",
   "metadata": {},
   "source": [
    "On peut écrire des conditions plus complexes avec, par exemple, les instructions `or` et `and`."
   ]
  },
  {
   "cell_type": "code",
   "execution_count": null,
   "metadata": {},
   "outputs": [],
   "source": [
    "# Exemple \n",
    "# Exécutez le code suivant\n",
    "\n",
    "print(\"Vous allez choisir les coordonnées d'un point du plan dont les deux coordonnées sont positives.\")\n",
    "abscisse = float(input(\"Quelle est l'abscisse de votre point ?\\n\"))\n",
    "ordonnee = float(input(\"Quelle est l'ordonnee de votre point ?\\n\"))\n",
    "if abscisse >= 0 and ordonnee >=0:\n",
    "    print(\"Votre point vérifie les conditions.\")\n",
    "else:\n",
    "    print(\"Votre point ne vérifie pas les conditions.\")"
   ]
  },
  {
   "cell_type": "markdown",
   "metadata": {},
   "source": [
    "**À vous de jouer !**\n",
    "\n",
    "Écrire un code demandant un nombre décimal et affichant son double s'il est positif et sa moitié sinon.\n",
    "\n",
    "Dans le code suivant, remplacer l'instruction `pass` par votre code, puis exécuter votre code pour vérifier."
   ]
  },
  {
   "cell_type": "code",
   "execution_count": null,
   "metadata": {},
   "outputs": [],
   "source": [
    "pass"
   ]
  },
  {
   "cell_type": "markdown",
   "metadata": {},
   "source": [
    "# 3. Les boucles (instructions à répéter)"
   ]
  },
  {
   "cell_type": "markdown",
   "metadata": {},
   "source": [
    "## 3.1. Les boucles `for` (lorsque l'on connaît le nombre de répétitions souhaitées)"
   ]
  },
  {
   "cell_type": "markdown",
   "metadata": {},
   "source": [
    "Lorsque l'on connaît le nombre de répétitions souhaitées pour l'exécution d'une (ou plusieurs) instruction(s), on peut utiliser une boucle `for` avec une instruction du type `for i in range(5):` pour répéter une (ou plusieurs) instruction(s) 5 fois par exemple."
   ]
  },
  {
   "cell_type": "markdown",
   "metadata": {},
   "source": [
    "**Remarques**\n",
    "\n",
    "1. À nouveau les \":\" génèrent une indentation permettant à Python de repérer la (ou les) instruction(s) à répéter.\n",
    "\n",
    "2. `for i in range(5):` signifie en fait : \"pour i entier compris entre 0 (inclus) et 5 (exclu)\", c'est-à-dire $0\\leq i<5$. Il y a donc bien 5 répétitions mais avec un compteur `i` qui démarre à 0 et termine à 4.\n",
    "\n",
    "3. Si l'on souhaite utiliser un compteur ne démarrant pas à 0, il suffit de donner deux arguments à `range()`. Par exemple `for in in range(1, 10):` signifie : \"pour i entier compris entre 1 (inclus) et 10 (exclu)\", c'est-à-dire $1\\leq i<10$. Attention cela donne finalement seulement 9 répétitions.\n",
    "\n",
    "4. On peut également préciser un \"pas\" pour passer d'une valeur du compteur à la suivante. Par exemple `for i in range(1, 10, 2):` signifie : \"pour i entier compris entre 1 (inclus) et 10 (exclu) avec i prenant des valeurs de 2 en 2\". Les compteur i prendrait donc successivement les valeurs 1, 3, 5, 7, 9."
   ]
  },
  {
   "cell_type": "code",
   "execution_count": null,
   "metadata": {},
   "outputs": [],
   "source": [
    "# Exemple \n",
    "# Exécutez le code suivant\n",
    "\n",
    "for i in range(11):\n",
    "    print(\"Bonjour !\")\n",
    "    print(i)"
   ]
  },
  {
   "cell_type": "markdown",
   "metadata": {},
   "source": [
    "Ce type de boucle permet également de créer des listes de façon plus rapide et dans un langage plus proche d'une langue parlée.\n",
    "\n",
    "`liste4 = [i**2 for i in range(11)]` permet par exemple de créer la liste `liste4` contenant les carrés des entiers de 0 à 10.\n",
    "\n",
    "Si on lit ce qui est écrit entre crochets, c'est presque du langage naturel :\n",
    "\n",
    "\"Le carré de i pour i entier compris entre 0 (inclus) et 11 (exclu)\".\n",
    "\n",
    "On parle alors d'une liste créée **en compréhension**."
   ]
  },
  {
   "cell_type": "code",
   "execution_count": null,
   "metadata": {},
   "outputs": [],
   "source": [
    "# Exemple \n",
    "# Exécutez le code suivant\n",
    "\n",
    "liste5 = [x**2+5*x for x in range(5)] # liste des images des nombres 0, 1, 2, 3, 4 par la fonction\n",
    "# f qui associe à chaque réel x le réel x^2+5x\n",
    "print(liste5)"
   ]
  },
  {
   "cell_type": "markdown",
   "metadata": {},
   "source": [
    "**À vous de jouer !**\n",
    "\n",
    "Écrire un code affichant un par un les entiers de 1 à 50 en utilisant une boucle `for`.\n",
    "\n",
    "Dans le code suivant, remplacer l'instruction `pass` par votre code, puis exécuter votre code pour vérifier."
   ]
  },
  {
   "cell_type": "code",
   "execution_count": null,
   "metadata": {},
   "outputs": [],
   "source": [
    "pass"
   ]
  },
  {
   "cell_type": "markdown",
   "metadata": {},
   "source": [
    "## 3.2. Les boucles `while` (lorsque le nombre de répétitions dépend d'une condition)"
   ]
  },
  {
   "cell_type": "markdown",
   "metadata": {},
   "source": [
    "Lorsque le nombre de répétitions d'une (ou plusieurs) instruction(s) dépend d'une condition, on peut utiliser l'instruction `while condition:`."
   ]
  },
  {
   "cell_type": "markdown",
   "metadata": {},
   "source": [
    "**Remarque**\n",
    "\n",
    "À nouveau les \":\" génèrent une indentation permettant à Python de repérer la (ou les) instruction(s) à répéter."
   ]
  },
  {
   "cell_type": "code",
   "execution_count": null,
   "metadata": {},
   "outputs": [],
   "source": [
    "# Exemple \n",
    "# Exécutez le code suivant\n",
    "\n",
    "compteur = 0 # On affecte la valeur 0 à la variable compteur\n",
    "while compteur < 100: # tant que la valeur de compteur est strictement inférieure à 100\n",
    "    print(compteur) # on affiche la valeur de compteur\n",
    "    compteur = compteur + 1 # on ajoute 1 à la valeur de compteur et réaffecte à la variable compteur le résultat obtenu\n",
    "    # autrement dit, au augmente la valeur de compteur de 1 à chaque boucle"
   ]
  },
  {
   "cell_type": "markdown",
   "metadata": {},
   "source": [
    "**Attention**\n",
    "\n",
    "Si la condition écrite entre `while` et `:` est toujours vérifiée...la boucle ne s'arrête jamais.\n",
    "\n",
    "On parle de boucle infinie."
   ]
  },
  {
   "cell_type": "markdown",
   "metadata": {},
   "source": [
    "**À vous de jouer !**\n",
    "\n",
    "Écrire un code affichant un par un les entiers de 1 à 50 en utilisant une boucle `while`.\n",
    "\n",
    "Dans le code suivant, remplacer l'instruction `pass` par votre code, puis exécuter votre code pour vérifier."
   ]
  },
  {
   "cell_type": "code",
   "execution_count": null,
   "metadata": {},
   "outputs": [],
   "source": [
    "pass"
   ]
  },
  {
   "cell_type": "markdown",
   "metadata": {},
   "source": [
    "# 4. Les fonctions en Python"
   ]
  },
  {
   "cell_type": "markdown",
   "metadata": {},
   "source": [
    "Le langage Python permet de donner un nom à un bloc d'instruction pour pouvoir le réutiliser plus loin sans être obligé de la réécrire.\n",
    "\n",
    "On parle de **\"fonction\"** en programmation.\n",
    "\n",
    "Pour définir une fonction, on commence par `def nom_fonction(paramètres_éventuels):` où `nom_fonction` est à remplacer par le nom que l'on souhaite donner à notre \"fonction\" Python et `paramètres_éventuels` le nom des variables qui vont enregister les éventuels paramètres nécessaires dans le code de la \"fonction\".\n",
    "\n",
    "Lorsque l'on souhaite pouvoir récupérer une valeur obtenue à la suite des instructions écrites dans le \"corps\" de la fonction, on utilise l'instruction `return` qui permet de renvoyer un résultat."
   ]
  },
  {
   "cell_type": "markdown",
   "metadata": {},
   "source": [
    "**Remarques**\n",
    "\n",
    "1. Cela ressemble à la définition d'une fonction en Mathématiques.\n",
    "\n",
    "2. Définir une fonction ne suffit pas pour l'utiliser ! Il faut ensuite écrire une instruction qui l'utilise.\n",
    "\n",
    "3. Renvoyer un résultat ne signifie pas l'afficher."
   ]
  },
  {
   "cell_type": "code",
   "execution_count": null,
   "metadata": {},
   "outputs": [],
   "source": [
    "# Exemple \n",
    "# Exécutez le code suivant\n",
    "\n",
    "def carre(x): # notre fonction a pour nom \"carre\" et prend en paramètre un nombre x\n",
    "    return x**2 # notre fonction renvoie le carré de x\n",
    "\n",
    "# À ce stade, rien ne s'affiche si on n'utilise pas cette fonction\n",
    "\n",
    "print(carre(13))"
   ]
  },
  {
   "cell_type": "markdown",
   "metadata": {},
   "source": [
    "**À vous de jouer !**\n",
    "\n",
    "Écrire un code contenant une fonction `liste_carres` prenant comme paramètre un entier naturel `n` et renvoyant la liste des entiers de 0 à $n$.\n",
    "\n",
    "Demander l'affichage de la liste obtenue après avoir choisi une valeur de $n$.\n",
    "\n",
    "Dans le code suivant, remplacer l'instruction `pass` par votre code, puis exécuter votre code pour vérifier."
   ]
  },
  {
   "cell_type": "code",
   "execution_count": null,
   "metadata": {},
   "outputs": [],
   "source": [
    "pass"
   ]
  },
  {
   "cell_type": "markdown",
   "metadata": {},
   "source": [
    "# 5. Quelques bibliothèques Python"
   ]
  },
  {
   "cell_type": "markdown",
   "metadata": {},
   "source": [
    "Comme dans d'autres langages, le langage Python n'est pas implémenté par défaut avec toutes les instructions afin d'alléger le chargement et l'exécution du programme.\n",
    "\n",
    "Il est donc parfois nécessaire de charger une \"bibliothèque\" Python en plus contenant des fonctions ou des instructions supplémentaires qui peuvent nous être utiles."
   ]
  },
  {
   "cell_type": "markdown",
   "metadata": {},
   "source": [
    "**Exemples de bibliothèques utiles en Mathématiques au lycée**\n",
    "\n",
    "1. `math` pour avoir accès à la racine carrée (`sqrt()`), au nombre $\\pi$ (`pi`), aux fonctions cos et sin (`cos`, `sin`), etc.\n",
    "\n",
    "2. `random` pour avoir accès aux instructions `random` ou `randint` permettant de jouer avec le hasard.\n",
    "\n",
    "3. `matplotlib` pour pouvoir tracer des graphiques. Cette bibliothèque est très utilisée en Physique-chimie ou en SVT au lycée."
   ]
  },
  {
   "cell_type": "markdown",
   "metadata": {},
   "source": [
    "Pour charger une bibliothèque supplémentaire, il y a plusieurs solutions.\n",
    "\n",
    "Il est recommandé de le faire en début de programme.\n",
    "\n",
    "On peut par exemple utiliser l'instruction `from nom_bibliotheque import *` ou `nom_bibliotheque` est à remplacer par le nom de la bibliothèque que l'on souhaite charger."
   ]
  },
  {
   "cell_type": "code",
   "execution_count": null,
   "metadata": {},
   "outputs": [],
   "source": [
    "# Exemple \n",
    "# Exécutez le code suivant\n",
    "\n",
    "from math import *\n",
    "\n",
    "print(\"Une valeur approchée de pi est : \", pi, \".\")\n",
    "print(\"Une valeur approchée de racine de 2 est : \", sqrt(2), \".\")"
   ]
  },
  {
   "cell_type": "code",
   "execution_count": null,
   "metadata": {},
   "outputs": [],
   "source": [
    "# Exemple \n",
    "# Exécutez le code suivant\n",
    "\n",
    "from random import *\n",
    "\n",
    "hasard = randint(1,50) # on choisit un entier au hasard entre 1 (inclus) et 50 (inclus)\n",
    "print(\"L'ordinateur vient de choisir un nombre entier au hasard entre 1 et 50.\") # phrase message\n",
    "print(\"Vous allez essayer de le deviner.\") # phrase message\n",
    "nombre = int(input(\"À quel nombre pensez-vous ?\\n\")) # question et stockage de la réponse dans la variable \"nombre\"\n",
    "while nombre != hasard: # tant que les valeurs des variables \"nombre\" et \"hasard\" sont différentes\n",
    "    if nombre > hasard: # si la valeur de la variable \"nombre\" est strictement supérieure à celle de la variable \"hasard\"\n",
    "        print(\"Votre nombre est trop grand.\") \n",
    "        nombre = int(input(\"Choisissez un autre nombre.\\n\"))\n",
    "    else: # sinon. Autrement dit si la valeur de la variable \"nombre\" \n",
    "        # est strictement inférieure à celle de la variable \"hasard\"\n",
    "        print(\"Votre nombre est trop petit.\")\n",
    "        nombre = int(input(\"Choisissez un autre nombre.\\n\"))\n",
    "print(\"Bravo ! Vous avez trouvé le nombre !\")"
   ]
  },
  {
   "cell_type": "markdown",
   "metadata": {},
   "source": [
    "**À vous de jouer !**\n",
    "\n",
    "Écrire un code permettant de simuler le jeu suivant :\n",
    "\n",
    "1. On lance deux dés cubiques équilibrés dont les faces sont numérotées de 1 à 6.\n",
    "\n",
    "2. On gagne le jeu lorsque l'on obtient un double 6.\n",
    "\n",
    "3. Écrire le code de façon à ce que le jeu s'arrête lorsque le joueur a gagné ou que le nombre d'essais est de 10.\n",
    "\n",
    "L'instruction `break` permet de sortir d'une boucle quand on le souhaite.\n",
    "\n",
    "Dans le code suivant, remplacer l'instruction `pass` par votre code, puis exécuter votre code pour vérifier."
   ]
  },
  {
   "cell_type": "code",
   "execution_count": null,
   "metadata": {},
   "outputs": [],
   "source": [
    "pass"
   ]
  }
 ],
 "metadata": {
  "kernelspec": {
   "display_name": "Python 3 (ipykernel)",
   "language": "python",
   "name": "python3"
  },
  "language_info": {
   "codemirror_mode": {
    "name": "ipython",
    "version": 3
   },
   "file_extension": ".py",
   "mimetype": "text/x-python",
   "name": "python",
   "nbconvert_exporter": "python",
   "pygments_lexer": "ipython3",
   "version": "3.10.4"
  }
 },
 "nbformat": 4,
 "nbformat_minor": 2
}
